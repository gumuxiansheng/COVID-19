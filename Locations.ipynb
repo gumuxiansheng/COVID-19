{
 "cells": [
  {
   "cell_type": "markdown",
   "metadata": {},
   "source": [
    "# Locations info Arrangement"
   ]
  },
  {
   "cell_type": "code",
   "execution_count": 1,
   "metadata": {},
   "outputs": [],
   "source": [
    "import json\n",
    "import pandas as pd\n",
    "import requests"
   ]
  },
  {
   "cell_type": "markdown",
   "metadata": {},
   "source": [
    "## Hospitals"
   ]
  },
  {
   "cell_type": "code",
   "execution_count": 2,
   "metadata": {},
   "outputs": [],
   "source": [
    "with open('data/fangcang-hospitals.json', 'r') as f:\n",
    "    fangcang = json.loads(f.read())"
   ]
  },
  {
   "cell_type": "code",
   "execution_count": 3,
   "metadata": {},
   "outputs": [],
   "source": [
    "with open('data/hospitals-wuhan.json', 'r') as f:\n",
    "    hospitals = json.loads(f.read())"
   ]
  },
  {
   "cell_type": "code",
   "execution_count": 4,
   "metadata": {},
   "outputs": [],
   "source": [
    "with open('data/huoshen-leishen-hospital.json', 'r') as f:\n",
    "    huoshen_leishen = json.loads(f.read())"
   ]
  },
  {
   "cell_type": "code",
   "execution_count": 5,
   "metadata": {},
   "outputs": [],
   "source": [
    "locations_df = pd.DataFrame()"
   ]
  },
  {
   "cell_type": "markdown",
   "metadata": {},
   "source": [
    "Convert fangcang data:"
   ]
  },
  {
   "cell_type": "code",
   "execution_count": 6,
   "metadata": {},
   "outputs": [],
   "source": [
    "for item in fangcang['data']:\n",
    "    dfx = pd.DataFrame()\n",
    "    dfx['type'] = ['Fangcang']\n",
    "    dfx['title'] = [item['title']]\n",
    "    dfx['address'] = [item['address']]\n",
    "    dfx['lat'] = [item['location']['lat']]\n",
    "    dfx['lng'] = [item['location']['lng']]\n",
    "    locations_df = locations_df.append(dfx, ignore_index=True)"
   ]
  },
  {
   "cell_type": "markdown",
   "metadata": {},
   "source": [
    "Convert hospitals data:"
   ]
  },
  {
   "cell_type": "code",
   "execution_count": 7,
   "metadata": {},
   "outputs": [],
   "source": [
    "for item in hospitals['data']['data']:\n",
    "    dfx = pd.DataFrame()\n",
    "    dfx['type'] = ['Core' if item['isCore']  == 1 else 'Fever']\n",
    "    dfx['title'] = [item['orgName']]\n",
    "    dfx['address'] = [item['orgAddr']]\n",
    "    dfx['lat'] = [item['lat']]\n",
    "    dfx['lng'] = [item['lng']]\n",
    "    locations_df = locations_df.append(dfx, ignore_index=True)"
   ]
  },
  {
   "cell_type": "markdown",
   "metadata": {},
   "source": [
    "Convert huoshen leishen data:"
   ]
  },
  {
   "cell_type": "code",
   "execution_count": 8,
   "metadata": {},
   "outputs": [],
   "source": [
    "for item in huoshen_leishen['data']:\n",
    "    dfx = pd.DataFrame()\n",
    "    dfx['type'] = ['HuoshenLeishen']\n",
    "    dfx['title'] = [item['title']]\n",
    "    dfx['address'] = [item['address']]\n",
    "    dfx['lat'] = [item['location']['lat']]\n",
    "    dfx['lng'] = [item['location']['lng']]\n",
    "    locations_df = locations_df.append(dfx, ignore_index=True)"
   ]
  },
  {
   "cell_type": "code",
   "execution_count": 9,
   "metadata": {},
   "outputs": [],
   "source": [
    "locations_df.to_csv('data/hospitals.csv', index=False)"
   ]
  },
  {
   "cell_type": "markdown",
   "metadata": {},
   "source": [
    "## Storehouse"
   ]
  },
  {
   "cell_type": "code",
   "execution_count": 10,
   "metadata": {},
   "outputs": [],
   "source": [
    "with open('data/store.json', 'r') as f:\n",
    "    store = json.loads(f.read())"
   ]
  },
  {
   "cell_type": "code",
   "execution_count": 11,
   "metadata": {},
   "outputs": [],
   "source": [
    "for item in store['data']:\n",
    "    dfx = pd.DataFrame()\n",
    "    dfx['type'] = ['Storehouse']\n",
    "    dfx['title'] = [item['title']]\n",
    "    dfx['address'] = [item['address']]\n",
    "    dfx['lat'] = [item['location']['lat']]\n",
    "    dfx['lng'] = [item['location']['lng']]\n",
    "    locations_df = locations_df.append(dfx, ignore_index=True)"
   ]
  },
  {
   "cell_type": "code",
   "execution_count": 12,
   "metadata": {},
   "outputs": [],
   "source": [
    "locations_df.to_csv('data/loacations.csv', index=False)"
   ]
  },
  {
   "cell_type": "code",
   "execution_count": 13,
   "metadata": {},
   "outputs": [
    {
     "output_type": "execute_result",
     "data": {
      "text/plain": "           type                 title                   address        lat  \\\n0      Fangcang             方舱医院(新洲区)  湖北省武汉市新洲区邾城全民健身中心(永安大道东)  30.837821   \n1      Fangcang            方舱医院(白马驿站)             湖北省武汉市洪山区欢乐大道  30.598630   \n2      Fangcang              长江新城方舱医院           湖北省武汉市江岸区谌家矶特4号  30.681784   \n3      Fangcang           方舱医院(洪山体育馆)          湖北省武汉市武昌区体育馆路特1号  30.545917   \n4      Fangcang       方舱医院(石牌岭高级职业中学)          湖北省武汉市洪山区石牌岭路13号  30.524705   \n..          ...                   ...                       ...        ...   \n103  Storehouse           武汉市江汉区应急管理局           湖北省武汉市江汉区天门墩路7号  30.605740   \n104  Storehouse          武汉市东西湖区应急管理局          湖北省武汉市东西湖区啤砖路51号  30.651440   \n105  Storehouse           武汉市武昌区应急管理局          湖北省武汉市武昌区中山路307号  30.553850   \n106  Storehouse           武汉市硚口区应急管理局         湖北省武汉市硚口区沿河大道518号  30.582290   \n107  Storehouse  武汉市经济技术开发区(汉南区)应急管理局          湖北省武汉市蔡甸区东风大道88号  30.505740   \n\n            lng  \n0    114.808144  \n1    114.425040  \n2    114.366320  \n3    114.334634  \n4    114.342449  \n..          ...  \n103  114.275500  \n104  114.139590  \n105  114.315679  \n106  114.214910  \n107  114.167526  \n\n[108 rows x 5 columns]",
      "text/html": "<div>\n<style scoped>\n    .dataframe tbody tr th:only-of-type {\n        vertical-align: middle;\n    }\n\n    .dataframe tbody tr th {\n        vertical-align: top;\n    }\n\n    .dataframe thead th {\n        text-align: right;\n    }\n</style>\n<table border=\"1\" class=\"dataframe\">\n  <thead>\n    <tr style=\"text-align: right;\">\n      <th></th>\n      <th>type</th>\n      <th>title</th>\n      <th>address</th>\n      <th>lat</th>\n      <th>lng</th>\n    </tr>\n  </thead>\n  <tbody>\n    <tr>\n      <th>0</th>\n      <td>Fangcang</td>\n      <td>方舱医院(新洲区)</td>\n      <td>湖北省武汉市新洲区邾城全民健身中心(永安大道东)</td>\n      <td>30.837821</td>\n      <td>114.808144</td>\n    </tr>\n    <tr>\n      <th>1</th>\n      <td>Fangcang</td>\n      <td>方舱医院(白马驿站)</td>\n      <td>湖北省武汉市洪山区欢乐大道</td>\n      <td>30.598630</td>\n      <td>114.425040</td>\n    </tr>\n    <tr>\n      <th>2</th>\n      <td>Fangcang</td>\n      <td>长江新城方舱医院</td>\n      <td>湖北省武汉市江岸区谌家矶特4号</td>\n      <td>30.681784</td>\n      <td>114.366320</td>\n    </tr>\n    <tr>\n      <th>3</th>\n      <td>Fangcang</td>\n      <td>方舱医院(洪山体育馆)</td>\n      <td>湖北省武汉市武昌区体育馆路特1号</td>\n      <td>30.545917</td>\n      <td>114.334634</td>\n    </tr>\n    <tr>\n      <th>4</th>\n      <td>Fangcang</td>\n      <td>方舱医院(石牌岭高级职业中学)</td>\n      <td>湖北省武汉市洪山区石牌岭路13号</td>\n      <td>30.524705</td>\n      <td>114.342449</td>\n    </tr>\n    <tr>\n      <th>...</th>\n      <td>...</td>\n      <td>...</td>\n      <td>...</td>\n      <td>...</td>\n      <td>...</td>\n    </tr>\n    <tr>\n      <th>103</th>\n      <td>Storehouse</td>\n      <td>武汉市江汉区应急管理局</td>\n      <td>湖北省武汉市江汉区天门墩路7号</td>\n      <td>30.605740</td>\n      <td>114.275500</td>\n    </tr>\n    <tr>\n      <th>104</th>\n      <td>Storehouse</td>\n      <td>武汉市东西湖区应急管理局</td>\n      <td>湖北省武汉市东西湖区啤砖路51号</td>\n      <td>30.651440</td>\n      <td>114.139590</td>\n    </tr>\n    <tr>\n      <th>105</th>\n      <td>Storehouse</td>\n      <td>武汉市武昌区应急管理局</td>\n      <td>湖北省武汉市武昌区中山路307号</td>\n      <td>30.553850</td>\n      <td>114.315679</td>\n    </tr>\n    <tr>\n      <th>106</th>\n      <td>Storehouse</td>\n      <td>武汉市硚口区应急管理局</td>\n      <td>湖北省武汉市硚口区沿河大道518号</td>\n      <td>30.582290</td>\n      <td>114.214910</td>\n    </tr>\n    <tr>\n      <th>107</th>\n      <td>Storehouse</td>\n      <td>武汉市经济技术开发区(汉南区)应急管理局</td>\n      <td>湖北省武汉市蔡甸区东风大道88号</td>\n      <td>30.505740</td>\n      <td>114.167526</td>\n    </tr>\n  </tbody>\n</table>\n<p>108 rows × 5 columns</p>\n</div>"
     },
     "metadata": {},
     "execution_count": 13
    }
   ],
   "source": [
    "locations_df"
   ]
  },
  {
   "cell_type": "markdown",
   "metadata": {},
   "source": [
    "## Get Distances"
   ]
  },
  {
   "cell_type": "code",
   "execution_count": 14,
   "metadata": {},
   "outputs": [
    {
     "output_type": "execute_result",
     "data": {
      "text/plain": "           lat         lng\n0    30.837821  114.808144\n1    30.598630  114.425040\n2    30.681784  114.366320\n3    30.545917  114.334634\n4    30.524705  114.342449\n..         ...         ...\n103  30.605740  114.275500\n104  30.651440  114.139590\n105  30.553850  114.315679\n106  30.582290  114.214910\n107  30.505740  114.167526\n\n[108 rows x 2 columns]",
      "text/html": "<div>\n<style scoped>\n    .dataframe tbody tr th:only-of-type {\n        vertical-align: middle;\n    }\n\n    .dataframe tbody tr th {\n        vertical-align: top;\n    }\n\n    .dataframe thead th {\n        text-align: right;\n    }\n</style>\n<table border=\"1\" class=\"dataframe\">\n  <thead>\n    <tr style=\"text-align: right;\">\n      <th></th>\n      <th>lat</th>\n      <th>lng</th>\n    </tr>\n  </thead>\n  <tbody>\n    <tr>\n      <th>0</th>\n      <td>30.837821</td>\n      <td>114.808144</td>\n    </tr>\n    <tr>\n      <th>1</th>\n      <td>30.598630</td>\n      <td>114.425040</td>\n    </tr>\n    <tr>\n      <th>2</th>\n      <td>30.681784</td>\n      <td>114.366320</td>\n    </tr>\n    <tr>\n      <th>3</th>\n      <td>30.545917</td>\n      <td>114.334634</td>\n    </tr>\n    <tr>\n      <th>4</th>\n      <td>30.524705</td>\n      <td>114.342449</td>\n    </tr>\n    <tr>\n      <th>...</th>\n      <td>...</td>\n      <td>...</td>\n    </tr>\n    <tr>\n      <th>103</th>\n      <td>30.605740</td>\n      <td>114.275500</td>\n    </tr>\n    <tr>\n      <th>104</th>\n      <td>30.651440</td>\n      <td>114.139590</td>\n    </tr>\n    <tr>\n      <th>105</th>\n      <td>30.553850</td>\n      <td>114.315679</td>\n    </tr>\n    <tr>\n      <th>106</th>\n      <td>30.582290</td>\n      <td>114.214910</td>\n    </tr>\n    <tr>\n      <th>107</th>\n      <td>30.505740</td>\n      <td>114.167526</td>\n    </tr>\n  </tbody>\n</table>\n<p>108 rows × 2 columns</p>\n</div>"
     },
     "metadata": {},
     "execution_count": 14
    }
   ],
   "source": [
    "locations_df[['lat', 'lng']]"
   ]
  },
  {
   "cell_type": "code",
   "execution_count": 15,
   "metadata": {},
   "outputs": [
    {
     "output_type": "stream",
     "name": "stdout",
     "text": "Fangcang 20\nFangcang \n [{'lat': 30.837821, 'lng': 114.808144}, {'lat': 30.59863, 'lng': 114.42504}, {'lat': 30.681784, 'lng': 114.36632}, {'lat': 30.545917, 'lng': 114.334634}, {'lat': 30.524705, 'lng': 114.342449}, {'lat': 30.621089, 'lng': 114.228881}, {'lat': 30.577, 'lng': 114.260066}, {'lat': 30.500686, 'lng': 114.171899}, {'lat': 30.612412, 'lng': 114.388901}, {'lat': 30.39347, 'lng': 114.426479}, {'lat': 30.90544, 'lng': 114.360695}, {'lat': 30.641, 'lng': 114.284711}, {'lat': 30.502381, 'lng': 114.059876}, {'lat': 30.507009, 'lng': 114.242098}, {'lat': 30.580293, 'lng': 114.273331}, {'lat': 30.699498, 'lng': 114.235175}, {'lat': 30.452971, 'lng': 114.163264}, {'lat': 30.490452, 'lng': 114.509388}, {'lat': 30.357564, 'lng': 114.348006}, {'lat': 30.569881, 'lng': 114.219133}]\nHuoshenLeishen 2\nHuoshenLeishen \n [{'lat': 30.527887, 'lng': 114.087392}, {'lat': 30.430179, 'lng': 114.291359}]\nCore 38\nCore \n [{'lat': 30.57702, 'lng': 114.02759}, {'lat': 30.561282, 'lng': 114.04347}, {'lat': 30.648869, 'lng': 114.132874}, {'lat': 30.548545, 'lng': 114.112783}, {'lat': 30.314335, 'lng': 114.07301}, {'lat': 30.3013, 'lng': 114.07676}, {'lat': 30.492572, 'lng': 114.173958}, {'lat': 30.59275, 'lng': 114.204566}, {'lat': 30.716671, 'lng': 114.260486}, {'lat': 30.51957, 'lng': 114.21434}, {'lat': 30.581195, 'lng': 114.253381}, {'lat': 30.548535, 'lng': 114.245788}, {'lat': 30.666798, 'lng': 114.285062}, {'lat': 30.613907, 'lng': 114.273173}, {'lat': 30.607233, 'lng': 114.273383}, {'lat': 30.623204, 'lng': 114.285622}, {'lat': 30.572263, 'lng': 114.272389}, {'lat': 30.547532, 'lng': 114.271386}, {'lat': 30.600141, 'lng': 114.290395}, {'lat': 30.887774, 'lng': 114.370661}, {'lat': 30.625517, 'lng': 114.300232}, {'lat': 30.871935, 'lng': 114.376293}, {'lat': 30.603715, 'lng': 114.305821}, {'lat': 30.863733, 'lng': 114.393801}, {'lat': 30.580984, 'lng': 114.328199}, {'lat': 30.602685, 'lng': 114.342288}, {'lat': 30.524819, 'lng': 114.326415}, {'lat': 30.541887, 'lng': 114.331832}, {'lat': 30.531232, 'lng': 114.344952}, {'lat': 30.623763, 'lng': 114.379557}, {'lat': 30.37107, 'lng': 114.32095}, {'lat': 30.343161, 'lng': 114.317775}, {'lat': 30.521086, 'lng': 114.366973}, {'lat': 30.65692, 'lng': 114.43364}, {'lat': 30.498925, 'lng': 114.41119}, {'lat': 30.44, 'lng': 114.44126}, {'lat': 30.85184, 'lng': 114.80466}, {'lat': 30.84355, 'lng': 114.80403}]\nFever 32\nFever \n [{'lat': 30.57183, 'lng': 114.0323}, {'lat': 30.637524, 'lng': 114.154173}, {'lat': 30.546915, 'lng': 114.211249}, {'lat': 30.62827, 'lng': 114.265529}, {'lat': 30.569122, 'lng': 114.254033}, {'lat': 30.579362, 'lng': 114.26059}, {'lat': 30.5658, 'lng': 114.266861}, {'lat': 30.584277, 'lng': 114.274832}, {'lat': 30.606478, 'lng': 114.287183}, {'lat': 30.582964, 'lng': 114.282386}, {'lat': 30.582964, 'lng': 114.282386}, {'lat': 30.60308, 'lng': 114.28779}, {'lat': 30.581211, 'lng': 114.294894}, {'lat': 30.581211, 'lng': 114.294894}, {'lat': 30.588484, 'lng': 114.297764}, {'lat': 30.61487, 'lng': 114.30901}, {'lat': 30.535251, 'lng': 114.298945}, {'lat': 30.540548, 'lng': 114.302771}, {'lat': 30.550532, 'lng': 114.309845}, {'lat': 30.544322, 'lng': 114.313998}, {'lat': 30.553486, 'lng': 114.352951}, {'lat': 30.52744, 'lng': 114.352226}, {'lat': 30.631234, 'lng': 114.380535}, {'lat': 30.35346, 'lng': 114.319685}, {'lat': 30.63215, 'lng': 114.403489}, {'lat': 30.505842, 'lng': 114.377652}, {'lat': 30.65692, 'lng': 114.43364}, {'lat': 30.506315, 'lng': 114.408101}, {'lat': 30.57462, 'lng': 114.4625}, {'lat': 30.44, 'lng': 114.44126}, {'lat': 30.48767, 'lng': 114.463644}, {'lat': 30.676869, 'lng': 114.583257}]\n"
    }
   ],
   "source": [
    "map_key = 'KNHBZ-SNFCD-JCC4P-HAWVD-A2KOO-OOBHO'\n",
    "url = f'http://apis.map.qq.com/ws/distance/v1/matrix?key={map_key}&mode=driving'\n",
    "\n",
    "from_list = []\n",
    "from_str = ''\n",
    "for index, item in locations_df[locations_df['type'] == 'Storehouse'][['lat', 'lng']].iterrows():\n",
    "    lat = item['lat']\n",
    "    lng = item['lng']\n",
    "    from_str += f'{lat},{lng};'\n",
    "    from_list.append({'lat':lat, 'lng':lng})\n",
    "from_str = from_str[:-1]\n",
    "\n",
    "def get_to_str(type):\n",
    "    to_list = []\n",
    "    to_str = ''\n",
    "    locations_df_temp = locations_df if type == 'All' else locations_df[locations_df['type'] == type]\n",
    "    print(type, len(locations_df_temp))\n",
    "    for index, item in locations_df_temp[['lat', 'lng']].iterrows():\n",
    "        lat = item['lat']\n",
    "        lng = item['lng']\n",
    "        to_str += f'{lat},{lng};'\n",
    "        to_list.append({'lat':lat, 'lng':lng})\n",
    "\n",
    "    to_str = to_str[:-1]\n",
    "    print(type, '\\n', to_list)\n",
    "    return to_str\n",
    "\n",
    "to_fangcang_str = get_to_str('Fangcang')\n",
    "to_huolei_str = get_to_str('HuoshenLeishen')\n",
    "to_core_str = get_to_str('Core')\n",
    "to_fever_str = get_to_str('Fever')\n",
    "\n",
    "url_fangcang = f'{url}&from={from_str}&to={to_fangcang_str}'\n",
    "url_huolei = f'{url}&from={from_str}&to={to_huolei_str}'\n",
    "url_core = f'{url}&from={from_str}&to={to_core_str}'\n",
    "url_fever = f'{url}&from={from_str}&to={to_fever_str}'\n"
   ]
  },
  {
   "cell_type": "code",
   "execution_count": 16,
   "metadata": {},
   "outputs": [],
   "source": [
    "def translate_map(type, res_map, fixed_row = -1):\n",
    "    locations_df_rtemp = locations_df if type == 'All' else locations_df[locations_df['type'] == 'Storehouse']\n",
    "    locations_df_ctemp = locations_df if type == 'All' else locations_df[locations_df['type'] == type]\n",
    "    rows = list(locations_df_rtemp['title'])\n",
    "    cols = list(locations_df_ctemp['title'])\n",
    "\n",
    "    df_distance = pd.DataFrame(columns=cols)\n",
    "    df_duration = pd.DataFrame(columns=cols)\n",
    "    for index, row in enumerate(res_map['rows']):\n",
    "        dfx = pd.DataFrame()\n",
    "        dfy = pd.DataFrame()\n",
    "        if fixed_row >= 0:\n",
    "            dfx['storehouse'] = [rows[fixed_row]]\n",
    "            dfy['storehouse'] = [rows[fixed_row]]\n",
    "        else:\n",
    "            dfx['storehouse'] = [rows[index]]\n",
    "            dfy['storehouse'] = [rows[index]]\n",
    "        for index_y, col in enumerate(row['elements']):\n",
    "            dfx[cols[index_y]] = [col['distance']]\n",
    "            dfy[cols[index_y]] = [col['duration']]\n",
    "        df_distance = df_distance.append(dfx)\n",
    "        df_duration = df_duration.append(dfy)\n",
    "    \n",
    "    return df_distance, df_duration\n",
    "\n",
    "def get_distance_info(type):\n",
    "    if type == 'Fangcang':\n",
    "        url = url_fangcang\n",
    "    elif type == 'HuoshenLeishen':\n",
    "        url = url_huolei\n",
    "    elif type == 'Core':\n",
    "        url = url_core\n",
    "    elif type == 'Fever':\n",
    "        url = url_fever\n",
    "    \n",
    "    res = requests.get(url)\n",
    "    print(url)\n",
    "    res = res.json()['result']\n",
    "\n",
    "    return translate_map(type, res)\n",
    "\n",
    "def save_distanceinfo(type):\n",
    "    dis_df, dua_df = get_distance_info(type)\n",
    "    dis_df.to_csv(f'data/{type}_distance.csv', index=False)\n",
    "    dua_df.to_csv(f'data/{type}_duration.csv', index=False)"
   ]
  },
  {
   "cell_type": "code",
   "execution_count": 17,
   "metadata": {},
   "outputs": [
    {
     "output_type": "stream",
     "name": "stdout",
     "text": "http://apis.map.qq.com/ws/distance/v1/matrix?key=KNHBZ-SNFCD-JCC4P-HAWVD-A2KOO-OOBHO&mode=driving&from=30.589509,114.300335;30.506843,114.241888;30.81081,114.226873;30.634988,114.292486;30.55423,114.2185;30.841568,114.807981;30.57813,114.03364;30.882697,114.377555;30.34257,114.31341;30.50054,114.34295;30.63116,114.39569;30.60574,114.2755;30.65144,114.13959;30.55385,114.315679;30.58229,114.21491;30.50574,114.167526&to=30.837821,114.808144;30.59863,114.42504;30.681784,114.36632;30.545917,114.334634;30.524705,114.342449;30.621089,114.228881;30.577,114.260066;30.500686,114.171899;30.612412,114.388901;30.39347,114.426479;30.90544,114.360695;30.641,114.284711;30.502381,114.059876;30.507009,114.242098;30.580293,114.273331;30.699498,114.235175;30.452971,114.163264;30.490452,114.509388;30.357564,114.348006;30.569881,114.219133\nhttp://apis.map.qq.com/ws/distance/v1/matrix?key=KNHBZ-SNFCD-JCC4P-HAWVD-A2KOO-OOBHO&mode=driving&from=30.589509,114.300335;30.506843,114.241888;30.81081,114.226873;30.634988,114.292486;30.55423,114.2185;30.841568,114.807981;30.57813,114.03364;30.882697,114.377555;30.34257,114.31341;30.50054,114.34295;30.63116,114.39569;30.60574,114.2755;30.65144,114.13959;30.55385,114.315679;30.58229,114.21491;30.50574,114.167526&to=30.527887,114.087392;30.430179,114.291359\nhttp://apis.map.qq.com/ws/distance/v1/matrix?key=KNHBZ-SNFCD-JCC4P-HAWVD-A2KOO-OOBHO&mode=driving&from=30.589509,114.300335;30.506843,114.241888;30.81081,114.226873;30.634988,114.292486;30.55423,114.2185;30.841568,114.807981;30.57813,114.03364;30.882697,114.377555;30.34257,114.31341;30.50054,114.34295;30.63116,114.39569;30.60574,114.2755;30.65144,114.13959;30.55385,114.315679;30.58229,114.21491;30.50574,114.167526&to=30.57702,114.02759;30.561282,114.04347;30.648869,114.132874;30.548545,114.112783;30.314335,114.07301;30.3013,114.07676;30.492572,114.173958;30.59275,114.204566;30.716671,114.260486;30.51957,114.21434;30.581195,114.253381;30.548535,114.245788;30.666798,114.285062;30.613907,114.273173;30.607233,114.273383;30.623204,114.285622;30.572263,114.272389;30.547532,114.271386;30.600141,114.290395;30.887774,114.370661;30.625517,114.300232;30.871935,114.376293;30.603715,114.305821;30.863733,114.393801;30.580984,114.328199;30.602685,114.342288;30.524819,114.326415;30.541887,114.331832;30.531232,114.344952;30.623763,114.379557;30.37107,114.32095;30.343161,114.317775;30.521086,114.366973;30.65692,114.43364;30.498925,114.41119;30.44,114.44126;30.85184,114.80466;30.84355,114.80403\nhttp://apis.map.qq.com/ws/distance/v1/matrix?key=KNHBZ-SNFCD-JCC4P-HAWVD-A2KOO-OOBHO&mode=driving&from=30.589509,114.300335;30.506843,114.241888;30.81081,114.226873;30.634988,114.292486;30.55423,114.2185;30.841568,114.807981;30.57813,114.03364;30.882697,114.377555;30.34257,114.31341;30.50054,114.34295;30.63116,114.39569;30.60574,114.2755;30.65144,114.13959;30.55385,114.315679;30.58229,114.21491;30.50574,114.167526&to=30.57183,114.0323;30.637524,114.154173;30.546915,114.211249;30.62827,114.265529;30.569122,114.254033;30.579362,114.26059;30.5658,114.266861;30.584277,114.274832;30.606478,114.287183;30.582964,114.282386;30.582964,114.282386;30.60308,114.28779;30.581211,114.294894;30.581211,114.294894;30.588484,114.297764;30.61487,114.30901;30.535251,114.298945;30.540548,114.302771;30.550532,114.309845;30.544322,114.313998;30.553486,114.352951;30.52744,114.352226;30.631234,114.380535;30.35346,114.319685;30.63215,114.403489;30.505842,114.377652;30.65692,114.43364;30.506315,114.408101;30.57462,114.4625;30.44,114.44126;30.48767,114.463644;30.676869,114.583257\n"
    }
   ],
   "source": [
    "for type in ['Fangcang', 'HuoshenLeishen', 'Core', 'Fever']:\n",
    "    save_distanceinfo(type)"
   ]
  },
  {
   "cell_type": "code",
   "execution_count": 18,
   "metadata": {},
   "outputs": [
    {
     "output_type": "execute_result",
     "data": {
      "text/plain": "[{'lat': 30.589509, 'lng': 114.300335},\n {'lat': 30.506843, 'lng': 114.241888},\n {'lat': 30.81081, 'lng': 114.226873},\n {'lat': 30.634988, 'lng': 114.292486},\n {'lat': 30.55423, 'lng': 114.2185},\n {'lat': 30.841568, 'lng': 114.807981},\n {'lat': 30.57813, 'lng': 114.03364},\n {'lat': 30.882697, 'lng': 114.377555},\n {'lat': 30.34257, 'lng': 114.31341},\n {'lat': 30.50054, 'lng': 114.34295},\n {'lat': 30.63116, 'lng': 114.39569},\n {'lat': 30.60574, 'lng': 114.2755},\n {'lat': 30.65144, 'lng': 114.13959},\n {'lat': 30.55385, 'lng': 114.315679},\n {'lat': 30.58229, 'lng': 114.21491},\n {'lat': 30.50574, 'lng': 114.167526}]"
     },
     "metadata": {},
     "execution_count": 18
    }
   ],
   "source": [
    "from_list"
   ]
  },
  {
   "cell_type": "code",
   "execution_count": 19,
   "metadata": {},
   "outputs": [
    {
     "output_type": "stream",
     "name": "stdout",
     "text": "All 108\nAll \n [{'lat': 30.837821, 'lng': 114.808144}, {'lat': 30.59863, 'lng': 114.42504}, {'lat': 30.681784, 'lng': 114.36632}, {'lat': 30.545917, 'lng': 114.334634}, {'lat': 30.524705, 'lng': 114.342449}, {'lat': 30.621089, 'lng': 114.228881}, {'lat': 30.577, 'lng': 114.260066}, {'lat': 30.500686, 'lng': 114.171899}, {'lat': 30.612412, 'lng': 114.388901}, {'lat': 30.39347, 'lng': 114.426479}, {'lat': 30.90544, 'lng': 114.360695}, {'lat': 30.641, 'lng': 114.284711}, {'lat': 30.502381, 'lng': 114.059876}, {'lat': 30.507009, 'lng': 114.242098}, {'lat': 30.580293, 'lng': 114.273331}, {'lat': 30.699498, 'lng': 114.235175}, {'lat': 30.452971, 'lng': 114.163264}, {'lat': 30.490452, 'lng': 114.509388}, {'lat': 30.357564, 'lng': 114.348006}, {'lat': 30.569881, 'lng': 114.219133}, {'lat': 30.57702, 'lng': 114.02759}, {'lat': 30.561282, 'lng': 114.04347}, {'lat': 30.648869, 'lng': 114.132874}, {'lat': 30.548545, 'lng': 114.112783}, {'lat': 30.314335, 'lng': 114.07301}, {'lat': 30.3013, 'lng': 114.07676}, {'lat': 30.492572, 'lng': 114.173958}, {'lat': 30.59275, 'lng': 114.204566}, {'lat': 30.716671, 'lng': 114.260486}, {'lat': 30.51957, 'lng': 114.21434}, {'lat': 30.581195, 'lng': 114.253381}, {'lat': 30.548535, 'lng': 114.245788}, {'lat': 30.666798, 'lng': 114.285062}, {'lat': 30.613907, 'lng': 114.273173}, {'lat': 30.607233, 'lng': 114.273383}, {'lat': 30.623204, 'lng': 114.285622}, {'lat': 30.572263, 'lng': 114.272389}, {'lat': 30.547532, 'lng': 114.271386}, {'lat': 30.600141, 'lng': 114.290395}, {'lat': 30.887774, 'lng': 114.370661}, {'lat': 30.625517, 'lng': 114.300232}, {'lat': 30.871935, 'lng': 114.376293}, {'lat': 30.603715, 'lng': 114.305821}, {'lat': 30.863733, 'lng': 114.393801}, {'lat': 30.580984, 'lng': 114.328199}, {'lat': 30.602685, 'lng': 114.342288}, {'lat': 30.524819, 'lng': 114.326415}, {'lat': 30.541887, 'lng': 114.331832}, {'lat': 30.531232, 'lng': 114.344952}, {'lat': 30.623763, 'lng': 114.379557}, {'lat': 30.37107, 'lng': 114.32095}, {'lat': 30.343161, 'lng': 114.317775}, {'lat': 30.521086, 'lng': 114.366973}, {'lat': 30.65692, 'lng': 114.43364}, {'lat': 30.498925, 'lng': 114.41119}, {'lat': 30.44, 'lng': 114.44126}, {'lat': 30.85184, 'lng': 114.80466}, {'lat': 30.84355, 'lng': 114.80403}, {'lat': 30.57183, 'lng': 114.0323}, {'lat': 30.637524, 'lng': 114.154173}, {'lat': 30.546915, 'lng': 114.211249}, {'lat': 30.62827, 'lng': 114.265529}, {'lat': 30.569122, 'lng': 114.254033}, {'lat': 30.579362, 'lng': 114.26059}, {'lat': 30.5658, 'lng': 114.266861}, {'lat': 30.584277, 'lng': 114.274832}, {'lat': 30.606478, 'lng': 114.287183}, {'lat': 30.582964, 'lng': 114.282386}, {'lat': 30.582964, 'lng': 114.282386}, {'lat': 30.60308, 'lng': 114.28779}, {'lat': 30.581211, 'lng': 114.294894}, {'lat': 30.581211, 'lng': 114.294894}, {'lat': 30.588484, 'lng': 114.297764}, {'lat': 30.61487, 'lng': 114.30901}, {'lat': 30.535251, 'lng': 114.298945}, {'lat': 30.540548, 'lng': 114.302771}, {'lat': 30.550532, 'lng': 114.309845}, {'lat': 30.544322, 'lng': 114.313998}, {'lat': 30.553486, 'lng': 114.352951}, {'lat': 30.52744, 'lng': 114.352226}, {'lat': 30.631234, 'lng': 114.380535}, {'lat': 30.35346, 'lng': 114.319685}, {'lat': 30.63215, 'lng': 114.403489}, {'lat': 30.505842, 'lng': 114.377652}, {'lat': 30.65692, 'lng': 114.43364}, {'lat': 30.506315, 'lng': 114.408101}, {'lat': 30.57462, 'lng': 114.4625}, {'lat': 30.44, 'lng': 114.44126}, {'lat': 30.48767, 'lng': 114.463644}, {'lat': 30.676869, 'lng': 114.583257}, {'lat': 30.527887, 'lng': 114.087392}, {'lat': 30.430179, 'lng': 114.291359}, {'lat': 30.589509, 'lng': 114.300335}, {'lat': 30.506843, 'lng': 114.241888}, {'lat': 30.81081, 'lng': 114.226873}, {'lat': 30.634988, 'lng': 114.292486}, {'lat': 30.55423, 'lng': 114.2185}, {'lat': 30.841568, 'lng': 114.807981}, {'lat': 30.57813, 'lng': 114.03364}, {'lat': 30.882697, 'lng': 114.377555}, {'lat': 30.34257, 'lng': 114.31341}, {'lat': 30.50054, 'lng': 114.34295}, {'lat': 30.63116, 'lng': 114.39569}, {'lat': 30.60574, 'lng': 114.2755}, {'lat': 30.65144, 'lng': 114.13959}, {'lat': 30.55385, 'lng': 114.315679}, {'lat': 30.58229, 'lng': 114.21491}, {'lat': 30.50574, 'lng': 114.167526}]\n"
    }
   ],
   "source": [
    "to_str = get_to_str('All')\n",
    "dis_df = pd.DataFrame()\n",
    "dua_df = pd.DataFrame()\n",
    "\n",
    "for index, item in locations_df[['lat', 'lng']].iterrows():\n",
    "    lat = item['lat']\n",
    "    lng = item['lng']\n",
    "    from_str = f'{lat},{lng}'\n",
    "    url_temp = f'{url}&from={from_str}&to={to_str}'\n",
    "    res = requests.get(url_temp)\n",
    "    res = res.json()['result']\n",
    "\n",
    "    dis_df_x, dua_df_x = translate_map('All', res, fixed_row = index)\n",
    "    dis_df = dis_df.append(dis_df_x, ignore_index=True)\n",
    "    dua_df = dua_df.append(dua_df_x, ignore_index=True)"
   ]
  },
  {
   "cell_type": "code",
   "execution_count": 20,
   "metadata": {},
   "outputs": [
    {
     "output_type": "execute_result",
     "data": {
      "text/plain": "    方舱医院(新洲区) 方舱医院(白马驿站) 长江新城方舱医院 方舱医院(洪山体育馆) 方舱医院(石牌岭高级职业中学) 方舱医院(江汉经济开发区)  \\\n0           0      62120    54991       72216           75179         71088   \n1       61319          0    15424       15357           18320         27788   \n2       55508      15100        0       20522           23266         19019   \n3       73265      12299    20955           0            3839         19892   \n4       75306      14340    22903        4333               0         22914   \n..        ...        ...      ...         ...             ...           ...   \n103     72836      21626    16243       10787           14423          7103   \n104     86350      36188    32296       28922           34816         12178   \n105     75473      14506    20425        2894            5338         19700   \n106     78181      27317    21933       16626           20128          9190   \n107     86947      36083    30699       23994           22532         22035   \n\n    方舱医院(武汉体育馆) 方舱医院(武汉体育中心) 方舱医院(武钢体育馆) 方舱医院(中国光谷日海)  ... 黄陂区应急管理局  \\\n0         76707        86193       66524        84932  ...    55433   \n1         24353        39727        9665        29364  ...    48868   \n2         17851        30958       15564        42088  ...    33128   \n3         10906        23915       11826        26799  ...    45996   \n4         12355        22624       15093        24736  ...    49653   \n..          ...          ...         ...          ...  ...      ...   \n103        5356        19749       17387        42474  ...    37732   \n104       19680        21674       31949        53442  ...    39485   \n105       10714        23723       12099        28933  ...    44243   \n106        4979        12241       23078        40633  ...    42853   \n107       14701         1055       31844        37584  ...    51619   \n\n    武汉市江夏区应急管理局 洪山区应急管理局 武汉市青山区应急管理局 武汉市江汉区应急管理局 武汉市东西湖区应急管理局 武汉市武昌区应急管理局  \\\n0        101073    76953       63009       71856        85432       75128   \n1         38700    20094        7913       23654        38390       18270   \n2         44480    25040       13157       14884        29621       19871   \n3         26637     7197       15335       11914        30554        2860   \n4         24574     5134       18029       14339        33941        5061   \n..          ...      ...         ...         ...          ...         ...   \n103       52007    17363       17368           0        17764        9324   \n104       47167    35978       31930       19172            0       27459   \n105       41132     9013       13333        9853        30362           0   \n106       49320    21290       23059       10264        14168       15162   \n107       42464    23563       31825       19030        21808       23460   \n\n    武汉市硚口区应急管理局 武汉市经济技术开发区(汉南区)应急管理局            storehouse  \n0         76879                86002             方舱医院(新洲区)  \n1         30413                39537            方舱医院(白马驿站)  \n2         21644                30768              长江新城方舱医院  \n3         19575                23725           方舱医院(洪山体育馆)  \n4         19455                22434       方舱医院(石牌岭高级职业中学)  \n..          ...                  ...                   ...  \n103        8423                19559           武汉市江汉区应急管理局  \n104       14938                21484          武汉市东西湖区应急管理局  \n105       19383                23533           武汉市武昌区应急管理局  \n106           0                12051           武汉市硚口区应急管理局  \n107       11710                    0  武汉市经济技术开发区(汉南区)应急管理局  \n\n[108 rows x 109 columns]",
      "text/html": "<div>\n<style scoped>\n    .dataframe tbody tr th:only-of-type {\n        vertical-align: middle;\n    }\n\n    .dataframe tbody tr th {\n        vertical-align: top;\n    }\n\n    .dataframe thead th {\n        text-align: right;\n    }\n</style>\n<table border=\"1\" class=\"dataframe\">\n  <thead>\n    <tr style=\"text-align: right;\">\n      <th></th>\n      <th>方舱医院(新洲区)</th>\n      <th>方舱医院(白马驿站)</th>\n      <th>长江新城方舱医院</th>\n      <th>方舱医院(洪山体育馆)</th>\n      <th>方舱医院(石牌岭高级职业中学)</th>\n      <th>方舱医院(江汉经济开发区)</th>\n      <th>方舱医院(武汉体育馆)</th>\n      <th>方舱医院(武汉体育中心)</th>\n      <th>方舱医院(武钢体育馆)</th>\n      <th>方舱医院(中国光谷日海)</th>\n      <th>...</th>\n      <th>黄陂区应急管理局</th>\n      <th>武汉市江夏区应急管理局</th>\n      <th>洪山区应急管理局</th>\n      <th>武汉市青山区应急管理局</th>\n      <th>武汉市江汉区应急管理局</th>\n      <th>武汉市东西湖区应急管理局</th>\n      <th>武汉市武昌区应急管理局</th>\n      <th>武汉市硚口区应急管理局</th>\n      <th>武汉市经济技术开发区(汉南区)应急管理局</th>\n      <th>storehouse</th>\n    </tr>\n  </thead>\n  <tbody>\n    <tr>\n      <th>0</th>\n      <td>0</td>\n      <td>62120</td>\n      <td>54991</td>\n      <td>72216</td>\n      <td>75179</td>\n      <td>71088</td>\n      <td>76707</td>\n      <td>86193</td>\n      <td>66524</td>\n      <td>84932</td>\n      <td>...</td>\n      <td>55433</td>\n      <td>101073</td>\n      <td>76953</td>\n      <td>63009</td>\n      <td>71856</td>\n      <td>85432</td>\n      <td>75128</td>\n      <td>76879</td>\n      <td>86002</td>\n      <td>方舱医院(新洲区)</td>\n    </tr>\n    <tr>\n      <th>1</th>\n      <td>61319</td>\n      <td>0</td>\n      <td>15424</td>\n      <td>15357</td>\n      <td>18320</td>\n      <td>27788</td>\n      <td>24353</td>\n      <td>39727</td>\n      <td>9665</td>\n      <td>29364</td>\n      <td>...</td>\n      <td>48868</td>\n      <td>38700</td>\n      <td>20094</td>\n      <td>7913</td>\n      <td>23654</td>\n      <td>38390</td>\n      <td>18270</td>\n      <td>30413</td>\n      <td>39537</td>\n      <td>方舱医院(白马驿站)</td>\n    </tr>\n    <tr>\n      <th>2</th>\n      <td>55508</td>\n      <td>15100</td>\n      <td>0</td>\n      <td>20522</td>\n      <td>23266</td>\n      <td>19019</td>\n      <td>17851</td>\n      <td>30958</td>\n      <td>15564</td>\n      <td>42088</td>\n      <td>...</td>\n      <td>33128</td>\n      <td>44480</td>\n      <td>25040</td>\n      <td>13157</td>\n      <td>14884</td>\n      <td>29621</td>\n      <td>19871</td>\n      <td>21644</td>\n      <td>30768</td>\n      <td>长江新城方舱医院</td>\n    </tr>\n    <tr>\n      <th>3</th>\n      <td>73265</td>\n      <td>12299</td>\n      <td>20955</td>\n      <td>0</td>\n      <td>3839</td>\n      <td>19892</td>\n      <td>10906</td>\n      <td>23915</td>\n      <td>11826</td>\n      <td>26799</td>\n      <td>...</td>\n      <td>45996</td>\n      <td>26637</td>\n      <td>7197</td>\n      <td>15335</td>\n      <td>11914</td>\n      <td>30554</td>\n      <td>2860</td>\n      <td>19575</td>\n      <td>23725</td>\n      <td>方舱医院(洪山体育馆)</td>\n    </tr>\n    <tr>\n      <th>4</th>\n      <td>75306</td>\n      <td>14340</td>\n      <td>22903</td>\n      <td>4333</td>\n      <td>0</td>\n      <td>22914</td>\n      <td>12355</td>\n      <td>22624</td>\n      <td>15093</td>\n      <td>24736</td>\n      <td>...</td>\n      <td>49653</td>\n      <td>24574</td>\n      <td>5134</td>\n      <td>18029</td>\n      <td>14339</td>\n      <td>33941</td>\n      <td>5061</td>\n      <td>19455</td>\n      <td>22434</td>\n      <td>方舱医院(石牌岭高级职业中学)</td>\n    </tr>\n    <tr>\n      <th>...</th>\n      <td>...</td>\n      <td>...</td>\n      <td>...</td>\n      <td>...</td>\n      <td>...</td>\n      <td>...</td>\n      <td>...</td>\n      <td>...</td>\n      <td>...</td>\n      <td>...</td>\n      <td>...</td>\n      <td>...</td>\n      <td>...</td>\n      <td>...</td>\n      <td>...</td>\n      <td>...</td>\n      <td>...</td>\n      <td>...</td>\n      <td>...</td>\n      <td>...</td>\n      <td>...</td>\n    </tr>\n    <tr>\n      <th>103</th>\n      <td>72836</td>\n      <td>21626</td>\n      <td>16243</td>\n      <td>10787</td>\n      <td>14423</td>\n      <td>7103</td>\n      <td>5356</td>\n      <td>19749</td>\n      <td>17387</td>\n      <td>42474</td>\n      <td>...</td>\n      <td>37732</td>\n      <td>52007</td>\n      <td>17363</td>\n      <td>17368</td>\n      <td>0</td>\n      <td>17764</td>\n      <td>9324</td>\n      <td>8423</td>\n      <td>19559</td>\n      <td>武汉市江汉区应急管理局</td>\n    </tr>\n    <tr>\n      <th>104</th>\n      <td>86350</td>\n      <td>36188</td>\n      <td>32296</td>\n      <td>28922</td>\n      <td>34816</td>\n      <td>12178</td>\n      <td>19680</td>\n      <td>21674</td>\n      <td>31949</td>\n      <td>53442</td>\n      <td>...</td>\n      <td>39485</td>\n      <td>47167</td>\n      <td>35978</td>\n      <td>31930</td>\n      <td>19172</td>\n      <td>0</td>\n      <td>27459</td>\n      <td>14938</td>\n      <td>21484</td>\n      <td>武汉市东西湖区应急管理局</td>\n    </tr>\n    <tr>\n      <th>105</th>\n      <td>75473</td>\n      <td>14506</td>\n      <td>20425</td>\n      <td>2894</td>\n      <td>5338</td>\n      <td>19700</td>\n      <td>10714</td>\n      <td>23723</td>\n      <td>12099</td>\n      <td>28933</td>\n      <td>...</td>\n      <td>44243</td>\n      <td>41132</td>\n      <td>9013</td>\n      <td>13333</td>\n      <td>9853</td>\n      <td>30362</td>\n      <td>0</td>\n      <td>19383</td>\n      <td>23533</td>\n      <td>武汉市武昌区应急管理局</td>\n    </tr>\n    <tr>\n      <th>106</th>\n      <td>78181</td>\n      <td>27317</td>\n      <td>21933</td>\n      <td>16626</td>\n      <td>20128</td>\n      <td>9190</td>\n      <td>4979</td>\n      <td>12241</td>\n      <td>23078</td>\n      <td>40633</td>\n      <td>...</td>\n      <td>42853</td>\n      <td>49320</td>\n      <td>21290</td>\n      <td>23059</td>\n      <td>10264</td>\n      <td>14168</td>\n      <td>15162</td>\n      <td>0</td>\n      <td>12051</td>\n      <td>武汉市硚口区应急管理局</td>\n    </tr>\n    <tr>\n      <th>107</th>\n      <td>86947</td>\n      <td>36083</td>\n      <td>30699</td>\n      <td>23994</td>\n      <td>22532</td>\n      <td>22035</td>\n      <td>14701</td>\n      <td>1055</td>\n      <td>31844</td>\n      <td>37584</td>\n      <td>...</td>\n      <td>51619</td>\n      <td>42464</td>\n      <td>23563</td>\n      <td>31825</td>\n      <td>19030</td>\n      <td>21808</td>\n      <td>23460</td>\n      <td>11710</td>\n      <td>0</td>\n      <td>武汉市经济技术开发区(汉南区)应急管理局</td>\n    </tr>\n  </tbody>\n</table>\n<p>108 rows × 109 columns</p>\n</div>"
     },
     "metadata": {},
     "execution_count": 20
    }
   ],
   "source": [
    "dis_df"
   ]
  },
  {
   "cell_type": "code",
   "execution_count": 21,
   "metadata": {},
   "outputs": [],
   "source": [
    "dis_df.to_csv('data/distances.csv', index=False)"
   ]
  }
 ],
 "metadata": {
  "language_info": {
   "name": "python",
   "codemirror_mode": {
    "name": "ipython",
    "version": 3
   },
   "version": "3.7.6-final"
  },
  "orig_nbformat": 2,
  "file_extension": ".py",
  "mimetype": "text/x-python",
  "name": "python",
  "npconvert_exporter": "python",
  "pygments_lexer": "ipython3",
  "version": 3,
  "kernelspec": {
   "name": "python3",
   "display_name": "Python 3"
  }
 },
 "nbformat": 4,
 "nbformat_minor": 2
}