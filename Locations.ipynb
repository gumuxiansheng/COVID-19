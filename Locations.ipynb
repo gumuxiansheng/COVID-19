{
 "nbformat": 4,
 "nbformat_minor": 2,
 "metadata": {
  "language_info": {
   "name": "python",
   "codemirror_mode": {
    "name": "ipython",
    "version": 3
   },
   "version": "3.7.3-final"
  },
  "orig_nbformat": 2,
  "file_extension": ".py",
  "mimetype": "text/x-python",
  "name": "python",
  "npconvert_exporter": "python",
  "pygments_lexer": "ipython3",
  "version": 3,
  "kernelspec": {
   "name": "python37364bitbaseconda6cbf2fa32d51420982c74e46366e652d",
   "display_name": "Python 3.7.3 64-bit ('base': conda)"
  }
 },
 "cells": [
  {
   "cell_type": "markdown",
   "metadata": {},
   "source": [
    "# Locations info Arrangement"
   ]
  },
  {
   "cell_type": "code",
   "execution_count": 1,
   "metadata": {},
   "outputs": [],
   "source": [
    "import json\n",
    "import pandas as pd\n",
    "import requests"
   ]
  },
  {
   "cell_type": "markdown",
   "metadata": {},
   "source": [
    "## Hospitals"
   ]
  },
  {
   "cell_type": "code",
   "execution_count": 2,
   "metadata": {},
   "outputs": [],
   "source": [
    "with open('fangcang-hospitals.json', 'r') as f:\n",
    "    fangcang = json.loads(f.read())"
   ]
  },
  {
   "cell_type": "code",
   "execution_count": 4,
   "metadata": {},
   "outputs": [],
   "source": [
    "with open('hospitals-wuhan.json', 'r') as f:\n",
    "    hospitals = json.loads(f.read())"
   ]
  },
  {
   "cell_type": "code",
   "execution_count": 3,
   "metadata": {},
   "outputs": [],
   "source": [
    "with open('huoshen-leishen-hospital.json', 'r') as f:\n",
    "    huoshen_leishen = json.loads(f.read())"
   ]
  },
  {
   "cell_type": "code",
   "execution_count": 5,
   "metadata": {},
   "outputs": [],
   "source": [
    "locations_df = pd.DataFrame()"
   ]
  },
  {
   "cell_type": "markdown",
   "metadata": {},
   "source": [
    "Convert fangcang data:"
   ]
  },
  {
   "cell_type": "code",
   "execution_count": 6,
   "metadata": {},
   "outputs": [],
   "source": [
    "for item in fangcang['data']:\n",
    "    dfx = pd.DataFrame()\n",
    "    dfx['type'] = ['Fangcang']\n",
    "    dfx['title'] = [item['title']]\n",
    "    dfx['address'] = [item['address']]\n",
    "    dfx['lat'] = [item['location']['lat']]\n",
    "    dfx['lng'] = [item['location']['lng']]\n",
    "    locations_df = locations_df.append(dfx)"
   ]
  },
  {
   "cell_type": "markdown",
   "metadata": {},
   "source": [
    "Convert hospitals data:"
   ]
  },
  {
   "cell_type": "code",
   "execution_count": 7,
   "metadata": {},
   "outputs": [],
   "source": [
    "for item in hospitals['data']['data']:\n",
    "    dfx = pd.DataFrame()\n",
    "    dfx['type'] = ['Core' if item['isCore']  == 1 else 'Fever']\n",
    "    dfx['title'] = [item['orgName']]\n",
    "    dfx['address'] = [item['orgAddr']]\n",
    "    dfx['lat'] = [item['lat']]\n",
    "    dfx['lng'] = [item['lng']]\n",
    "    locations_df = locations_df.append(dfx)"
   ]
  },
  {
   "cell_type": "markdown",
   "metadata": {},
   "source": [
    "Convert huoshen leishen data:"
   ]
  },
  {
   "cell_type": "code",
   "execution_count": 8,
   "metadata": {},
   "outputs": [],
   "source": [
    "for item in huoshen_leishen['data']:\n",
    "    dfx = pd.DataFrame()\n",
    "    dfx['type'] = ['HuoshenLeishen']\n",
    "    dfx['title'] = [item['title']]\n",
    "    dfx['address'] = [item['address']]\n",
    "    dfx['lat'] = [item['location']['lat']]\n",
    "    dfx['lng'] = [item['location']['lng']]\n",
    "    locations_df = locations_df.append(dfx)"
   ]
  },
  {
   "cell_type": "code",
   "execution_count": 9,
   "metadata": {},
   "outputs": [],
   "source": [
    "locations_df.to_csv('hospitals.csv', index=False)"
   ]
  },
  {
   "cell_type": "markdown",
   "metadata": {},
   "source": [
    "## Storehouse"
   ]
  },
  {
   "cell_type": "code",
   "execution_count": 10,
   "metadata": {},
   "outputs": [],
   "source": [
    "with open('store.json', 'r') as f:\n",
    "    store = json.loads(f.read())"
   ]
  },
  {
   "cell_type": "code",
   "execution_count": 11,
   "metadata": {},
   "outputs": [],
   "source": [
    "for item in store['data']:\n",
    "    dfx = pd.DataFrame()\n",
    "    dfx['type'] = ['Storehouse']\n",
    "    dfx['title'] = [item['title']]\n",
    "    dfx['address'] = [item['address']]\n",
    "    dfx['lat'] = [item['location']['lat']]\n",
    "    dfx['lng'] = [item['location']['lng']]\n",
    "    locations_df = locations_df.append(dfx)"
   ]
  },
  {
   "cell_type": "code",
   "execution_count": 12,
   "metadata": {},
   "outputs": [],
   "source": [
    "locations_df.to_csv('loacations.csv', index=False)"
   ]
  },
  {
   "cell_type": "code",
   "execution_count": 13,
   "metadata": {},
   "outputs": [
    {
     "data": {
      "text/html": "<div>\n<style scoped>\n    .dataframe tbody tr th:only-of-type {\n        vertical-align: middle;\n    }\n\n    .dataframe tbody tr th {\n        vertical-align: top;\n    }\n\n    .dataframe thead th {\n        text-align: right;\n    }\n</style>\n<table border=\"1\" class=\"dataframe\">\n  <thead>\n    <tr style=\"text-align: right;\">\n      <th></th>\n      <th>type</th>\n      <th>title</th>\n      <th>address</th>\n      <th>lat</th>\n      <th>lng</th>\n    </tr>\n  </thead>\n  <tbody>\n    <tr>\n      <th>0</th>\n      <td>Fangcang</td>\n      <td>方舱医院(新洲区)</td>\n      <td>湖北省武汉市新洲区邾城全民健身中心(永安大道东)</td>\n      <td>30.837821</td>\n      <td>114.808144</td>\n    </tr>\n    <tr>\n      <th>0</th>\n      <td>Fangcang</td>\n      <td>方舱医院(白马驿站)</td>\n      <td>湖北省武汉市洪山区欢乐大道</td>\n      <td>30.598630</td>\n      <td>114.425040</td>\n    </tr>\n    <tr>\n      <th>0</th>\n      <td>Fangcang</td>\n      <td>长江新城方舱医院</td>\n      <td>湖北省武汉市江岸区谌家矶特4号</td>\n      <td>30.681784</td>\n      <td>114.366320</td>\n    </tr>\n    <tr>\n      <th>0</th>\n      <td>Fangcang</td>\n      <td>方舱医院(洪山体育馆)</td>\n      <td>湖北省武汉市武昌区体育馆路特1号</td>\n      <td>30.545917</td>\n      <td>114.334634</td>\n    </tr>\n    <tr>\n      <th>0</th>\n      <td>Fangcang</td>\n      <td>方舱医院(石牌岭高级职业中学)</td>\n      <td>湖北省武汉市洪山区石牌岭路13号</td>\n      <td>30.524705</td>\n      <td>114.342449</td>\n    </tr>\n    <tr>\n      <th>0</th>\n      <td>Fangcang</td>\n      <td>方舱医院(江汉经济开发区)</td>\n      <td>湖北省武汉市江汉区江兴路25号</td>\n      <td>30.621089</td>\n      <td>114.228881</td>\n    </tr>\n    <tr>\n      <th>0</th>\n      <td>Fangcang</td>\n      <td>方舱医院(武汉体育馆)</td>\n      <td>湖北省武汉市硚口区解放大道612号</td>\n      <td>30.577000</td>\n      <td>114.260066</td>\n    </tr>\n    <tr>\n      <th>0</th>\n      <td>Fangcang</td>\n      <td>方舱医院(武汉体育中心)</td>\n      <td>湖北省武汉市蔡甸区车城北路与体育路交叉口北</td>\n      <td>30.500686</td>\n      <td>114.171899</td>\n    </tr>\n    <tr>\n      <th>0</th>\n      <td>Fangcang</td>\n      <td>方舱医院(武钢体育馆)</td>\n      <td>湖北省武汉市洪山区仁和路111号</td>\n      <td>30.612412</td>\n      <td>114.388901</td>\n    </tr>\n    <tr>\n      <th>0</th>\n      <td>Fangcang</td>\n      <td>方舱医院(中国光谷日海)</td>\n      <td>湖北省武汉市江夏区栗庙路6号</td>\n      <td>30.393470</td>\n      <td>114.426479</td>\n    </tr>\n    <tr>\n      <th>0</th>\n      <td>Fangcang</td>\n      <td>方舱医院(黄陂一中体育馆)</td>\n      <td>湖北省武汉市黄陂区木兰大街</td>\n      <td>30.905440</td>\n      <td>114.360695</td>\n    </tr>\n    <tr>\n      <th>0</th>\n      <td>Fangcang</td>\n      <td>方舱医院(塔子湖全民健身中心)</td>\n      <td>湖北省武汉市江岸区后湖大道99号塔子湖体育中心</td>\n      <td>30.641000</td>\n      <td>114.284711</td>\n    </tr>\n    <tr>\n      <th>0</th>\n      <td>Fangcang</td>\n      <td>方舱医院(蔡甸区知音谷)</td>\n      <td>湖北省武汉市蔡甸区</td>\n      <td>30.502381</td>\n      <td>114.059876</td>\n    </tr>\n    <tr>\n      <th>0</th>\n      <td>Fangcang</td>\n      <td>方舱医院(武汉国际博览中心)</td>\n      <td>湖北省武汉市汉阳区鹦鹉大道619号</td>\n      <td>30.507009</td>\n      <td>114.242098</td>\n    </tr>\n    <tr>\n      <th>0</th>\n      <td>Fangcang</td>\n      <td>方舱医院(武汉国际会展中心)</td>\n      <td>湖北省武汉市江汉区解放大道696号</td>\n      <td>30.580293</td>\n      <td>114.273331</td>\n    </tr>\n    <tr>\n      <th>0</th>\n      <td>Fangcang</td>\n      <td>方舱医院(湖北省委党校新校区)</td>\n      <td>湖北省武汉市黄陂区</td>\n      <td>30.699498</td>\n      <td>114.235175</td>\n    </tr>\n    <tr>\n      <th>0</th>\n      <td>Fangcang</td>\n      <td>方舱医院(武汉经济开发区沌口)</td>\n      <td>湖北省武汉市蔡甸区</td>\n      <td>30.452971</td>\n      <td>114.163264</td>\n    </tr>\n    <tr>\n      <th>0</th>\n      <td>Fangcang</td>\n      <td>方舱医院(中国光谷科技会展中心)</td>\n      <td>湖北省武汉市洪山区高新大道787号</td>\n      <td>30.490452</td>\n      <td>114.509388</td>\n    </tr>\n    <tr>\n      <th>0</th>\n      <td>Fangcang</td>\n      <td>方舱医院(大花山户外运动中心)</td>\n      <td>湖北省武汉市江夏区纸坊东站向北200米中建二局大花山户外运动中心A馆</td>\n      <td>30.357564</td>\n      <td>114.348006</td>\n    </tr>\n    <tr>\n      <th>0</th>\n      <td>Fangcang</td>\n      <td>方舱医院(武汉市体育运动学校体育馆)</td>\n      <td>湖北省武汉市汉阳区</td>\n      <td>30.569881</td>\n      <td>114.219133</td>\n    </tr>\n    <tr>\n      <th>0</th>\n      <td>Core</td>\n      <td>武汉市蔡甸区中医医院</td>\n      <td>湖北省武汉市蔡甸区新福路516号</td>\n      <td>30.577020</td>\n      <td>114.027590</td>\n    </tr>\n    <tr>\n      <th>0</th>\n      <td>Core</td>\n      <td>武汉市蔡甸区人民医院</td>\n      <td>湖北省武汉市蔡甸区成功大道111号</td>\n      <td>30.561282</td>\n      <td>114.043470</td>\n    </tr>\n    <tr>\n      <th>0</th>\n      <td>Core</td>\n      <td>武汉市东西湖区人民医院</td>\n      <td>湖北省武汉市东西湖区临空港大道与三店大道交汇处西南侧</td>\n      <td>30.648869</td>\n      <td>114.132874</td>\n    </tr>\n    <tr>\n      <th>0</th>\n      <td>Core</td>\n      <td>华中科技大学同济医学院附属同济医院（中法新城院区）</td>\n      <td>湖北省武汉市蔡甸区健康大道东侧130米</td>\n      <td>30.548545</td>\n      <td>114.112783</td>\n    </tr>\n    <tr>\n      <th>0</th>\n      <td>Core</td>\n      <td>武汉市汉南区人民医院</td>\n      <td>湖北省武汉市汉南区沙帽镇兴城大道275号</td>\n      <td>30.314335</td>\n      <td>114.073010</td>\n    </tr>\n    <tr>\n      <th>0</th>\n      <td>Core</td>\n      <td>武汉市汉南区中医医院</td>\n      <td>湖北省武汉市汉南区梨实轩1号</td>\n      <td>30.301300</td>\n      <td>114.076760</td>\n    </tr>\n    <tr>\n      <th>0</th>\n      <td>Core</td>\n      <td>华中科技大学同济医学院附属协和医院（西院）</td>\n      <td>湖北省武汉市蔡甸区神龙大道58号</td>\n      <td>30.492572</td>\n      <td>114.173958</td>\n    </tr>\n    <tr>\n      <th>0</th>\n      <td>Core</td>\n      <td>武汉市第四医院(西院区)</td>\n      <td>湖北省武汉市硚口区解放大道与古田三路路口</td>\n      <td>30.592750</td>\n      <td>114.204566</td>\n    </tr>\n    <tr>\n      <th>0</th>\n      <td>Core</td>\n      <td>黄陂区人民医院盘龙院区</td>\n      <td>湖北省武汉市黄陂区盘龙大道42号</td>\n      <td>30.716671</td>\n      <td>114.260486</td>\n    </tr>\n    <tr>\n      <th>0</th>\n      <td>Core</td>\n      <td>武汉市中医医院（汉阳院区）</td>\n      <td>湖北省武汉市汉阳区凤凰湖环路</td>\n      <td>30.519570</td>\n      <td>114.214340</td>\n    </tr>\n    <tr>\n      <th>...</th>\n      <td>...</td>\n      <td>...</td>\n      <td>...</td>\n      <td>...</td>\n      <td>...</td>\n    </tr>\n    <tr>\n      <th>0</th>\n      <td>Fever</td>\n      <td>湖北省妇幼保健院</td>\n      <td>湖北省武汉市洪山区武珞路745号</td>\n      <td>30.527440</td>\n      <td>114.352226</td>\n    </tr>\n    <tr>\n      <th>0</th>\n      <td>Fever</td>\n      <td>武汉市普仁医院</td>\n      <td>湖北省武汉市青山区建设四路</td>\n      <td>30.631234</td>\n      <td>114.380535</td>\n    </tr>\n    <tr>\n      <th>0</th>\n      <td>Fever</td>\n      <td>江夏区纸坊街社区卫生服务中心</td>\n      <td>湖北省武汉市江夏区古驿道85号</td>\n      <td>30.353460</td>\n      <td>114.319685</td>\n    </tr>\n    <tr>\n      <th>0</th>\n      <td>Fever</td>\n      <td>华润武钢总医院</td>\n      <td>湖北省武汉市青山区冶金大道29号</td>\n      <td>30.632150</td>\n      <td>114.403489</td>\n    </tr>\n    <tr>\n      <th>0</th>\n      <td>Fever</td>\n      <td>湖北省荣军医院</td>\n      <td>湖北省武汉市洪山区卓豹路208号</td>\n      <td>30.505842</td>\n      <td>114.377652</td>\n    </tr>\n    <tr>\n      <th>0</th>\n      <td>Fever</td>\n      <td>武汉市石化医院</td>\n      <td>湖北省武汉市青山区长青路73号</td>\n      <td>30.656920</td>\n      <td>114.433640</td>\n    </tr>\n    <tr>\n      <th>0</th>\n      <td>Fever</td>\n      <td>湖北省中医院（光谷院区）</td>\n      <td>湖北省武汉市洪山区珞瑜路856号(光谷广场前行100米)</td>\n      <td>30.506315</td>\n      <td>114.408101</td>\n    </tr>\n    <tr>\n      <th>0</th>\n      <td>Fever</td>\n      <td>武汉市武东医院</td>\n      <td>湖北省武汉市青山区安康巷46号</td>\n      <td>30.574620</td>\n      <td>114.462500</td>\n    </tr>\n    <tr>\n      <th>0</th>\n      <td>Fever</td>\n      <td>武汉大学人民医院（东院）</td>\n      <td>湖北省武汉市江夏区店岑路与高新六路交叉口东北角湖北省人民医院东院内</td>\n      <td>30.440000</td>\n      <td>114.441260</td>\n    </tr>\n    <tr>\n      <th>0</th>\n      <td>Fever</td>\n      <td>华中科技大学同济医学院附属同济医院（光谷院区）</td>\n      <td>湖北省武汉市江夏区高新大道501号</td>\n      <td>30.487670</td>\n      <td>114.463644</td>\n    </tr>\n    <tr>\n      <th>0</th>\n      <td>Fever</td>\n      <td>湖北省第三人民医院阳逻院区</td>\n      <td>湖北省武汉市新洲区潘庙大道特1号</td>\n      <td>30.676869</td>\n      <td>114.583257</td>\n    </tr>\n    <tr>\n      <th>0</th>\n      <td>HuoshenLeishen</td>\n      <td>武汉蔡甸火神山医院</td>\n      <td>湖北省武汉市蔡甸区知音湖大道</td>\n      <td>30.527887</td>\n      <td>114.087392</td>\n    </tr>\n    <tr>\n      <th>0</th>\n      <td>HuoshenLeishen</td>\n      <td>武汉雷神山医院</td>\n      <td>湖北省武汉市江夏区黄家湖军运村</td>\n      <td>30.430179</td>\n      <td>114.291359</td>\n    </tr>\n    <tr>\n      <th>0</th>\n      <td>Storehouse</td>\n      <td>武汉市红十字会</td>\n      <td>湖北省武汉市江岸区胜利街162号</td>\n      <td>30.589509</td>\n      <td>114.300335</td>\n    </tr>\n    <tr>\n      <th>0</th>\n      <td>Storehouse</td>\n      <td>武汉国际博览中心</td>\n      <td>湖北省武汉市汉阳区鹦鹉大道619号</td>\n      <td>30.506843</td>\n      <td>114.241888</td>\n    </tr>\n    <tr>\n      <th>0</th>\n      <td>Storehouse</td>\n      <td>慈善总会联合仓库</td>\n      <td>湖北省武汉市黄陂区天河街道黄承烈塆</td>\n      <td>30.810810</td>\n      <td>114.226873</td>\n    </tr>\n    <tr>\n      <th>0</th>\n      <td>Storehouse</td>\n      <td>武汉市江岸区应急管理局</td>\n      <td>湖北省武汉市江岸区后湖二路</td>\n      <td>30.634988</td>\n      <td>114.292486</td>\n    </tr>\n    <tr>\n      <th>0</th>\n      <td>Storehouse</td>\n      <td>武汉市汉阳区应急管理局</td>\n      <td>湖北省武汉市汉阳区芳草路1号</td>\n      <td>30.554230</td>\n      <td>114.218500</td>\n    </tr>\n    <tr>\n      <th>0</th>\n      <td>Storehouse</td>\n      <td>武汉市新洲区应急管理局</td>\n      <td>湖北省武汉市新洲区邾城街道永安大道312号</td>\n      <td>30.841568</td>\n      <td>114.807981</td>\n    </tr>\n    <tr>\n      <th>0</th>\n      <td>Storehouse</td>\n      <td>武汉市应急管理局</td>\n      <td>湖北省武汉市江岸区二七街办事处工农兵路111号</td>\n      <td>30.627385</td>\n      <td>114.312270</td>\n    </tr>\n    <tr>\n      <th>0</th>\n      <td>Storehouse</td>\n      <td>武汉市蔡甸区应急管理局</td>\n      <td>湖北省武汉市蔡甸区汉阳大街86号附3号</td>\n      <td>30.578130</td>\n      <td>114.033640</td>\n    </tr>\n    <tr>\n      <th>0</th>\n      <td>Storehouse</td>\n      <td>黄陂区应急管理局</td>\n      <td>湖北省武汉市黄陂区黄陂大道380号</td>\n      <td>30.882697</td>\n      <td>114.377555</td>\n    </tr>\n    <tr>\n      <th>0</th>\n      <td>Storehouse</td>\n      <td>武汉市江夏区应急管理局</td>\n      <td>湖北省武汉市江夏区长安里特1号</td>\n      <td>30.342570</td>\n      <td>114.313410</td>\n    </tr>\n    <tr>\n      <th>0</th>\n      <td>Storehouse</td>\n      <td>洪山区应急管理局</td>\n      <td>湖北省武汉市洪山区珞狮路300号</td>\n      <td>30.500540</td>\n      <td>114.342950</td>\n    </tr>\n    <tr>\n      <th>0</th>\n      <td>Storehouse</td>\n      <td>武汉市青山区应急管理局</td>\n      <td>湖北省武汉市青山区冶金大道15号</td>\n      <td>30.631160</td>\n      <td>114.395690</td>\n    </tr>\n    <tr>\n      <th>0</th>\n      <td>Storehouse</td>\n      <td>武汉市江汉区应急管理局</td>\n      <td>湖北省武汉市江汉区天门墩路7号</td>\n      <td>30.605740</td>\n      <td>114.275500</td>\n    </tr>\n    <tr>\n      <th>0</th>\n      <td>Storehouse</td>\n      <td>武汉市东西湖区应急管理局</td>\n      <td>湖北省武汉市东西湖区啤砖路51号</td>\n      <td>30.651440</td>\n      <td>114.139590</td>\n    </tr>\n    <tr>\n      <th>0</th>\n      <td>Storehouse</td>\n      <td>武汉市武昌区应急管理局</td>\n      <td>湖北省武汉市武昌区中山路307号</td>\n      <td>30.553850</td>\n      <td>114.315679</td>\n    </tr>\n    <tr>\n      <th>0</th>\n      <td>Storehouse</td>\n      <td>武汉市硚口区应急管理局</td>\n      <td>湖北省武汉市硚口区沿河大道518号</td>\n      <td>30.582290</td>\n      <td>114.214910</td>\n    </tr>\n    <tr>\n      <th>0</th>\n      <td>Storehouse</td>\n      <td>武汉市经济技术开发区(汉南区)应急管理局</td>\n      <td>湖北省武汉市蔡甸区东风大道88号</td>\n      <td>30.505740</td>\n      <td>114.167526</td>\n    </tr>\n  </tbody>\n</table>\n<p>109 rows × 5 columns</p>\n</div>",
      "text/plain": "              type                      title  \\\n0         Fangcang                  方舱医院(新洲区)   \n0         Fangcang                 方舱医院(白马驿站)   \n0         Fangcang                   长江新城方舱医院   \n0         Fangcang                方舱医院(洪山体育馆)   \n0         Fangcang            方舱医院(石牌岭高级职业中学)   \n0         Fangcang              方舱医院(江汉经济开发区)   \n0         Fangcang                方舱医院(武汉体育馆)   \n0         Fangcang               方舱医院(武汉体育中心)   \n0         Fangcang                方舱医院(武钢体育馆)   \n0         Fangcang               方舱医院(中国光谷日海)   \n0         Fangcang              方舱医院(黄陂一中体育馆)   \n0         Fangcang            方舱医院(塔子湖全民健身中心)   \n0         Fangcang               方舱医院(蔡甸区知音谷)   \n0         Fangcang             方舱医院(武汉国际博览中心)   \n0         Fangcang             方舱医院(武汉国际会展中心)   \n0         Fangcang            方舱医院(湖北省委党校新校区)   \n0         Fangcang            方舱医院(武汉经济开发区沌口)   \n0         Fangcang           方舱医院(中国光谷科技会展中心)   \n0         Fangcang            方舱医院(大花山户外运动中心)   \n0         Fangcang         方舱医院(武汉市体育运动学校体育馆)   \n0             Core                 武汉市蔡甸区中医医院   \n0             Core                 武汉市蔡甸区人民医院   \n0             Core                武汉市东西湖区人民医院   \n0             Core  华中科技大学同济医学院附属同济医院（中法新城院区）   \n0             Core                 武汉市汉南区人民医院   \n0             Core                 武汉市汉南区中医医院   \n0             Core      华中科技大学同济医学院附属协和医院（西院）   \n0             Core               武汉市第四医院(西院区)   \n0             Core                黄陂区人民医院盘龙院区   \n0             Core              武汉市中医医院（汉阳院区）   \n..             ...                        ...   \n0            Fever                   湖北省妇幼保健院   \n0            Fever                    武汉市普仁医院   \n0            Fever             江夏区纸坊街社区卫生服务中心   \n0            Fever                    华润武钢总医院   \n0            Fever                    湖北省荣军医院   \n0            Fever                    武汉市石化医院   \n0            Fever               湖北省中医院（光谷院区）   \n0            Fever                    武汉市武东医院   \n0            Fever               武汉大学人民医院（东院）   \n0            Fever    华中科技大学同济医学院附属同济医院（光谷院区）   \n0            Fever              湖北省第三人民医院阳逻院区   \n0   HuoshenLeishen                  武汉蔡甸火神山医院   \n0   HuoshenLeishen                    武汉雷神山医院   \n0       Storehouse                    武汉市红十字会   \n0       Storehouse                   武汉国际博览中心   \n0       Storehouse                   慈善总会联合仓库   \n0       Storehouse                武汉市江岸区应急管理局   \n0       Storehouse                武汉市汉阳区应急管理局   \n0       Storehouse                武汉市新洲区应急管理局   \n0       Storehouse                   武汉市应急管理局   \n0       Storehouse                武汉市蔡甸区应急管理局   \n0       Storehouse                   黄陂区应急管理局   \n0       Storehouse                武汉市江夏区应急管理局   \n0       Storehouse                   洪山区应急管理局   \n0       Storehouse                武汉市青山区应急管理局   \n0       Storehouse                武汉市江汉区应急管理局   \n0       Storehouse               武汉市东西湖区应急管理局   \n0       Storehouse                武汉市武昌区应急管理局   \n0       Storehouse                武汉市硚口区应急管理局   \n0       Storehouse       武汉市经济技术开发区(汉南区)应急管理局   \n\n                               address        lat         lng  \n0             湖北省武汉市新洲区邾城全民健身中心(永安大道东)  30.837821  114.808144  \n0                        湖北省武汉市洪山区欢乐大道  30.598630  114.425040  \n0                      湖北省武汉市江岸区谌家矶特4号  30.681784  114.366320  \n0                     湖北省武汉市武昌区体育馆路特1号  30.545917  114.334634  \n0                     湖北省武汉市洪山区石牌岭路13号  30.524705  114.342449  \n0                      湖北省武汉市江汉区江兴路25号  30.621089  114.228881  \n0                    湖北省武汉市硚口区解放大道612号  30.577000  114.260066  \n0                湖北省武汉市蔡甸区车城北路与体育路交叉口北  30.500686  114.171899  \n0                     湖北省武汉市洪山区仁和路111号  30.612412  114.388901  \n0                       湖北省武汉市江夏区栗庙路6号  30.393470  114.426479  \n0                        湖北省武汉市黄陂区木兰大街  30.905440  114.360695  \n0              湖北省武汉市江岸区后湖大道99号塔子湖体育中心  30.641000  114.284711  \n0                           湖北省武汉市蔡甸区   30.502381  114.059876  \n0                    湖北省武汉市汉阳区鹦鹉大道619号  30.507009  114.242098  \n0                    湖北省武汉市江汉区解放大道696号  30.580293  114.273331  \n0                           湖北省武汉市黄陂区   30.699498  114.235175  \n0                           湖北省武汉市蔡甸区   30.452971  114.163264  \n0                    湖北省武汉市洪山区高新大道787号  30.490452  114.509388  \n0   湖北省武汉市江夏区纸坊东站向北200米中建二局大花山户外运动中心A馆  30.357564  114.348006  \n0                           湖北省武汉市汉阳区   30.569881  114.219133  \n0                     湖北省武汉市蔡甸区新福路516号  30.577020  114.027590  \n0                    湖北省武汉市蔡甸区成功大道111号  30.561282  114.043470  \n0           湖北省武汉市东西湖区临空港大道与三店大道交汇处西南侧  30.648869  114.132874  \n0                  湖北省武汉市蔡甸区健康大道东侧130米  30.548545  114.112783  \n0                 湖北省武汉市汉南区沙帽镇兴城大道275号  30.314335  114.073010  \n0                       湖北省武汉市汉南区梨实轩1号  30.301300  114.076760  \n0                     湖北省武汉市蔡甸区神龙大道58号  30.492572  114.173958  \n0                 湖北省武汉市硚口区解放大道与古田三路路口  30.592750  114.204566  \n0                     湖北省武汉市黄陂区盘龙大道42号  30.716671  114.260486  \n0                       湖北省武汉市汉阳区凤凰湖环路  30.519570  114.214340  \n..                                 ...        ...         ...  \n0                     湖北省武汉市洪山区武珞路745号  30.527440  114.352226  \n0                        湖北省武汉市青山区建设四路  30.631234  114.380535  \n0                      湖北省武汉市江夏区古驿道85号  30.353460  114.319685  \n0                     湖北省武汉市青山区冶金大道29号  30.632150  114.403489  \n0                     湖北省武汉市洪山区卓豹路208号  30.505842  114.377652  \n0                      湖北省武汉市青山区长青路73号  30.656920  114.433640  \n0         湖北省武汉市洪山区珞瑜路856号(光谷广场前行100米)  30.506315  114.408101  \n0                      湖北省武汉市青山区安康巷46号  30.574620  114.462500  \n0    湖北省武汉市江夏区店岑路与高新六路交叉口东北角湖北省人民医院东院内  30.440000  114.441260  \n0                    湖北省武汉市江夏区高新大道501号  30.487670  114.463644  \n0                     湖北省武汉市新洲区潘庙大道特1号  30.676869  114.583257  \n0                       湖北省武汉市蔡甸区知音湖大道  30.527887  114.087392  \n0                      湖北省武汉市江夏区黄家湖军运村  30.430179  114.291359  \n0                     湖北省武汉市江岸区胜利街162号  30.589509  114.300335  \n0                    湖北省武汉市汉阳区鹦鹉大道619号  30.506843  114.241888  \n0                    湖北省武汉市黄陂区天河街道黄承烈塆  30.810810  114.226873  \n0                        湖北省武汉市江岸区后湖二路  30.634988  114.292486  \n0                       湖北省武汉市汉阳区芳草路1号  30.554230  114.218500  \n0                湖北省武汉市新洲区邾城街道永安大道312号  30.841568  114.807981  \n0              湖北省武汉市江岸区二七街办事处工农兵路111号  30.627385  114.312270  \n0                  湖北省武汉市蔡甸区汉阳大街86号附3号  30.578130  114.033640  \n0                    湖北省武汉市黄陂区黄陂大道380号  30.882697  114.377555  \n0                      湖北省武汉市江夏区长安里特1号  30.342570  114.313410  \n0                     湖北省武汉市洪山区珞狮路300号  30.500540  114.342950  \n0                     湖北省武汉市青山区冶金大道15号  30.631160  114.395690  \n0                      湖北省武汉市江汉区天门墩路7号  30.605740  114.275500  \n0                     湖北省武汉市东西湖区啤砖路51号  30.651440  114.139590  \n0                     湖北省武汉市武昌区中山路307号  30.553850  114.315679  \n0                    湖北省武汉市硚口区沿河大道518号  30.582290  114.214910  \n0                     湖北省武汉市蔡甸区东风大道88号  30.505740  114.167526  \n\n[109 rows x 5 columns]"
     },
     "execution_count": 13,
     "metadata": {},
     "output_type": "execute_result"
    }
   ],
   "source": [
    "locations_df"
   ]
  },
  {
   "cell_type": "markdown",
   "metadata": {},
   "source": [
    "## Get Distances"
   ]
  },
  {
   "cell_type": "code",
   "execution_count": 17,
   "metadata": {},
   "outputs": [
    {
     "data": {
      "text/html": "<div>\n<style scoped>\n    .dataframe tbody tr th:only-of-type {\n        vertical-align: middle;\n    }\n\n    .dataframe tbody tr th {\n        vertical-align: top;\n    }\n\n    .dataframe thead th {\n        text-align: right;\n    }\n</style>\n<table border=\"1\" class=\"dataframe\">\n  <thead>\n    <tr style=\"text-align: right;\">\n      <th></th>\n      <th>lat</th>\n      <th>lng</th>\n    </tr>\n  </thead>\n  <tbody>\n    <tr>\n      <th>0</th>\n      <td>30.837821</td>\n      <td>114.808144</td>\n    </tr>\n    <tr>\n      <th>0</th>\n      <td>30.598630</td>\n      <td>114.425040</td>\n    </tr>\n    <tr>\n      <th>0</th>\n      <td>30.681784</td>\n      <td>114.366320</td>\n    </tr>\n    <tr>\n      <th>0</th>\n      <td>30.545917</td>\n      <td>114.334634</td>\n    </tr>\n    <tr>\n      <th>0</th>\n      <td>30.524705</td>\n      <td>114.342449</td>\n    </tr>\n    <tr>\n      <th>0</th>\n      <td>30.621089</td>\n      <td>114.228881</td>\n    </tr>\n    <tr>\n      <th>0</th>\n      <td>30.577000</td>\n      <td>114.260066</td>\n    </tr>\n    <tr>\n      <th>0</th>\n      <td>30.500686</td>\n      <td>114.171899</td>\n    </tr>\n    <tr>\n      <th>0</th>\n      <td>30.612412</td>\n      <td>114.388901</td>\n    </tr>\n    <tr>\n      <th>0</th>\n      <td>30.393470</td>\n      <td>114.426479</td>\n    </tr>\n    <tr>\n      <th>0</th>\n      <td>30.905440</td>\n      <td>114.360695</td>\n    </tr>\n    <tr>\n      <th>0</th>\n      <td>30.641000</td>\n      <td>114.284711</td>\n    </tr>\n    <tr>\n      <th>0</th>\n      <td>30.502381</td>\n      <td>114.059876</td>\n    </tr>\n    <tr>\n      <th>0</th>\n      <td>30.507009</td>\n      <td>114.242098</td>\n    </tr>\n    <tr>\n      <th>0</th>\n      <td>30.580293</td>\n      <td>114.273331</td>\n    </tr>\n    <tr>\n      <th>0</th>\n      <td>30.699498</td>\n      <td>114.235175</td>\n    </tr>\n    <tr>\n      <th>0</th>\n      <td>30.452971</td>\n      <td>114.163264</td>\n    </tr>\n    <tr>\n      <th>0</th>\n      <td>30.490452</td>\n      <td>114.509388</td>\n    </tr>\n    <tr>\n      <th>0</th>\n      <td>30.357564</td>\n      <td>114.348006</td>\n    </tr>\n    <tr>\n      <th>0</th>\n      <td>30.569881</td>\n      <td>114.219133</td>\n    </tr>\n    <tr>\n      <th>0</th>\n      <td>30.577020</td>\n      <td>114.027590</td>\n    </tr>\n    <tr>\n      <th>0</th>\n      <td>30.561282</td>\n      <td>114.043470</td>\n    </tr>\n    <tr>\n      <th>0</th>\n      <td>30.648869</td>\n      <td>114.132874</td>\n    </tr>\n    <tr>\n      <th>0</th>\n      <td>30.548545</td>\n      <td>114.112783</td>\n    </tr>\n    <tr>\n      <th>0</th>\n      <td>30.314335</td>\n      <td>114.073010</td>\n    </tr>\n    <tr>\n      <th>0</th>\n      <td>30.301300</td>\n      <td>114.076760</td>\n    </tr>\n    <tr>\n      <th>0</th>\n      <td>30.492572</td>\n      <td>114.173958</td>\n    </tr>\n    <tr>\n      <th>0</th>\n      <td>30.592750</td>\n      <td>114.204566</td>\n    </tr>\n    <tr>\n      <th>0</th>\n      <td>30.716671</td>\n      <td>114.260486</td>\n    </tr>\n    <tr>\n      <th>0</th>\n      <td>30.519570</td>\n      <td>114.214340</td>\n    </tr>\n    <tr>\n      <th>...</th>\n      <td>...</td>\n      <td>...</td>\n    </tr>\n    <tr>\n      <th>0</th>\n      <td>30.527440</td>\n      <td>114.352226</td>\n    </tr>\n    <tr>\n      <th>0</th>\n      <td>30.631234</td>\n      <td>114.380535</td>\n    </tr>\n    <tr>\n      <th>0</th>\n      <td>30.353460</td>\n      <td>114.319685</td>\n    </tr>\n    <tr>\n      <th>0</th>\n      <td>30.632150</td>\n      <td>114.403489</td>\n    </tr>\n    <tr>\n      <th>0</th>\n      <td>30.505842</td>\n      <td>114.377652</td>\n    </tr>\n    <tr>\n      <th>0</th>\n      <td>30.656920</td>\n      <td>114.433640</td>\n    </tr>\n    <tr>\n      <th>0</th>\n      <td>30.506315</td>\n      <td>114.408101</td>\n    </tr>\n    <tr>\n      <th>0</th>\n      <td>30.574620</td>\n      <td>114.462500</td>\n    </tr>\n    <tr>\n      <th>0</th>\n      <td>30.440000</td>\n      <td>114.441260</td>\n    </tr>\n    <tr>\n      <th>0</th>\n      <td>30.487670</td>\n      <td>114.463644</td>\n    </tr>\n    <tr>\n      <th>0</th>\n      <td>30.676869</td>\n      <td>114.583257</td>\n    </tr>\n    <tr>\n      <th>0</th>\n      <td>30.527887</td>\n      <td>114.087392</td>\n    </tr>\n    <tr>\n      <th>0</th>\n      <td>30.430179</td>\n      <td>114.291359</td>\n    </tr>\n    <tr>\n      <th>0</th>\n      <td>30.589509</td>\n      <td>114.300335</td>\n    </tr>\n    <tr>\n      <th>0</th>\n      <td>30.506843</td>\n      <td>114.241888</td>\n    </tr>\n    <tr>\n      <th>0</th>\n      <td>30.810810</td>\n      <td>114.226873</td>\n    </tr>\n    <tr>\n      <th>0</th>\n      <td>30.634988</td>\n      <td>114.292486</td>\n    </tr>\n    <tr>\n      <th>0</th>\n      <td>30.554230</td>\n      <td>114.218500</td>\n    </tr>\n    <tr>\n      <th>0</th>\n      <td>30.841568</td>\n      <td>114.807981</td>\n    </tr>\n    <tr>\n      <th>0</th>\n      <td>30.627385</td>\n      <td>114.312270</td>\n    </tr>\n    <tr>\n      <th>0</th>\n      <td>30.578130</td>\n      <td>114.033640</td>\n    </tr>\n    <tr>\n      <th>0</th>\n      <td>30.882697</td>\n      <td>114.377555</td>\n    </tr>\n    <tr>\n      <th>0</th>\n      <td>30.342570</td>\n      <td>114.313410</td>\n    </tr>\n    <tr>\n      <th>0</th>\n      <td>30.500540</td>\n      <td>114.342950</td>\n    </tr>\n    <tr>\n      <th>0</th>\n      <td>30.631160</td>\n      <td>114.395690</td>\n    </tr>\n    <tr>\n      <th>0</th>\n      <td>30.605740</td>\n      <td>114.275500</td>\n    </tr>\n    <tr>\n      <th>0</th>\n      <td>30.651440</td>\n      <td>114.139590</td>\n    </tr>\n    <tr>\n      <th>0</th>\n      <td>30.553850</td>\n      <td>114.315679</td>\n    </tr>\n    <tr>\n      <th>0</th>\n      <td>30.582290</td>\n      <td>114.214910</td>\n    </tr>\n    <tr>\n      <th>0</th>\n      <td>30.505740</td>\n      <td>114.167526</td>\n    </tr>\n  </tbody>\n</table>\n<p>109 rows × 2 columns</p>\n</div>",
      "text/plain": "          lat         lng\n0   30.837821  114.808144\n0   30.598630  114.425040\n0   30.681784  114.366320\n0   30.545917  114.334634\n0   30.524705  114.342449\n0   30.621089  114.228881\n0   30.577000  114.260066\n0   30.500686  114.171899\n0   30.612412  114.388901\n0   30.393470  114.426479\n0   30.905440  114.360695\n0   30.641000  114.284711\n0   30.502381  114.059876\n0   30.507009  114.242098\n0   30.580293  114.273331\n0   30.699498  114.235175\n0   30.452971  114.163264\n0   30.490452  114.509388\n0   30.357564  114.348006\n0   30.569881  114.219133\n0   30.577020  114.027590\n0   30.561282  114.043470\n0   30.648869  114.132874\n0   30.548545  114.112783\n0   30.314335  114.073010\n0   30.301300  114.076760\n0   30.492572  114.173958\n0   30.592750  114.204566\n0   30.716671  114.260486\n0   30.519570  114.214340\n..        ...         ...\n0   30.527440  114.352226\n0   30.631234  114.380535\n0   30.353460  114.319685\n0   30.632150  114.403489\n0   30.505842  114.377652\n0   30.656920  114.433640\n0   30.506315  114.408101\n0   30.574620  114.462500\n0   30.440000  114.441260\n0   30.487670  114.463644\n0   30.676869  114.583257\n0   30.527887  114.087392\n0   30.430179  114.291359\n0   30.589509  114.300335\n0   30.506843  114.241888\n0   30.810810  114.226873\n0   30.634988  114.292486\n0   30.554230  114.218500\n0   30.841568  114.807981\n0   30.627385  114.312270\n0   30.578130  114.033640\n0   30.882697  114.377555\n0   30.342570  114.313410\n0   30.500540  114.342950\n0   30.631160  114.395690\n0   30.605740  114.275500\n0   30.651440  114.139590\n0   30.553850  114.315679\n0   30.582290  114.214910\n0   30.505740  114.167526\n\n[109 rows x 2 columns]"
     },
     "execution_count": 17,
     "metadata": {},
     "output_type": "execute_result"
    }
   ],
   "source": [
    "locations_df[['lat', 'lng']]"
   ]
  },
  {
   "cell_type": "code",
   "execution_count": 27,
   "metadata": {},
   "outputs": [
    {
     "name": "stdout",
     "output_type": "stream",
     "text": "http://apis.map.qq.com/ws/distance/v1/matrix?key=KNHBZ-SNFCD-JCC4P-HAWVD-A2KOO-OOBHO&mode=driving&from=30.589509,114.300335;30.506843,114.241888;30.81081,114.226873;30.634988,114.292486;30.55423,114.2185;30.841568,114.807981;30.627385,114.31227;30.57813,114.03364;30.882697,114.377555;30.34257,114.31341;30.50054,114.34295;30.63116,114.39569;30.60574,114.2755;30.65144,114.13959;30.55385,114.315679;30.58229,114.21491;30.50574,114.167526&to=30.589509,114.300335;30.506843,114.241888;30.81081,114.226873;30.634988,114.292486;30.55423,114.2185;30.841568,114.807981;30.627385,114.31227;30.57813,114.03364;30.882697,114.377555;30.34257,114.31341;30.50054,114.34295;30.63116,114.39569;30.60574,114.2755;30.65144,114.13959;30.55385,114.315679;30.58229,114.21491;30.50574,114.167526\n"
    }
   ],
   "source": [
    "map_key = 'KNHBZ-SNFCD-JCC4P-HAWVD-A2KOO-OOBHO'\n",
    "url = f'http://apis.map.qq.com/ws/distance/v1/matrix?key={map_key}&mode=driving'\n",
    "\n",
    "from_str = ''\n",
    "for index, item in locations_df[locations_df['type'] == 'Storehouse'][['lat', 'lng']].iterrows():\n",
    "    lat = item['lat']\n",
    "    lng = item['lng']\n",
    "    from_str += f'{lat},{lng};'\n",
    "from_str = from_str[:-1]\n",
    "\n",
    "to_str = ''\n",
    "for index, item in locations_df[locations_df['type'] == 'Storehouse'][['lat', 'lng']].iterrows():\n",
    "    lat = item['lat']\n",
    "    lng = item['lng']\n",
    "    to_str += f'{lat},{lng};'\n",
    "to_str = to_str[:-1]\n",
    "\n",
    "url = f'{url}&from={from_str}&to={to_str}'\n",
    "\n",
    "print(url)"
   ]
  },
  {
   "cell_type": "code",
   "execution_count": null,
   "metadata": {},
   "outputs": [],
   "source": []
  }
 ]
}